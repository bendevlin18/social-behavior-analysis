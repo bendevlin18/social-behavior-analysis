{
 "cells": [
  {
   "cell_type": "markdown",
   "metadata": {},
   "source": [
    "## This notebook should be run AFTER DLC output, because this uses the csvs and the start times excel sheet"
   ]
  },
  {
   "cell_type": "code",
   "execution_count": 2,
   "metadata": {},
   "outputs": [],
   "source": [
    "import numpy as np\n",
    "import pandas as pd"
   ]
  },
  {
   "cell_type": "code",
   "execution_count": 3,
   "metadata": {},
   "outputs": [],
   "source": [
    "def dist_formula(x1, y1, x2, y2):\n",
    "    d = np.sqrt((x2 + x1)**2 + (y2 - y1)**2)\n",
    "    \n",
    "    return d"
   ]
  },
  {
   "cell_type": "code",
   "execution_count": 6,
   "metadata": {},
   "outputs": [],
   "source": [
    "def time_df(df_times, v_location):\n",
    "\n",
    "    ## import the time dataframe and calculate when the sociability and social novelty occur based on start time ##\n",
    "    ## in the future, it would be nice to be able to specify ONLY soc, or ONLY snp, or both ##\n",
    "    df_times.dropna(inplace = True)\n",
    "\n",
    "    df_times['StopSocialSec'] = df_times['StartSocialSec'] + 300\n",
    "    df_times['StopNovelSec'] = df_times['StartNovelSec'] + 300\n",
    "\n",
    "    ### we want to iterate through the rows, grab the video name, open corresponding video, extract framerate, and then multiply startSec cols\n",
    "\n",
    "    frameRate = np.zeros(len(df_times))\n",
    "    StartSocialFrames = np.zeros(len(df_times))\n",
    "    StartNovelFrames = np.zeros(len(df_times))\n",
    "    StopSocialFrames = np.zeros(len(df_times))\n",
    "    StopNovelFrames = np.zeros(len(df_times))\n",
    "\n",
    "    for i in range(len(df_times)):\n",
    "\n",
    "        cap = cv2.VideoCapture(v_location + '\\\\' + df_times['VideoName'][i] + '.mp4')\n",
    "        frameRate[i] = cap.get(cv2.CAP_PROP_FPS)\n",
    "        StartSocialFrames[i] = df_times['StartSocialSec'][i] * frameRate[i]\n",
    "        StartNovelFrames[i] = df_times['StartNovelSec'][i] * frameRate[i]\n",
    "        StopSocialFrames[i] = df_times['StopSocialSec'][i] * frameRate[i]\n",
    "        StopNovelFrames[i] = df_times['StopNovelSec'][i] * frameRate[i]\n",
    "\n",
    "    df_times['StartSocialFrames'] = StartSocialFrames\n",
    "    df_times['StartNovelFrames'] = StartNovelFrames\n",
    "    df_times['StopSocialFrames'] = StopSocialFrames\n",
    "    df_times['StopNovelFrames'] = StopNovelFrames\n",
    "\n",
    "    ## returning the prepared df_times, which has the calculated start and stop frames based on the framerate of each video ##\n",
    "    return df_times"
   ]
  },
  {
   "cell_type": "code",
   "execution_count": 8,
   "metadata": {},
   "outputs": [],
   "source": [
    "df = pd.read_csv('C:\\\\Users\\\\Ben\\\\Desktop\\\\working_output\\\\csv_output\\\\AC_SOC2_4DLC_resnet50_social_behavior_allMay27shuffle1_250000.csv', header = [1, 2])"
   ]
  },
  {
   "cell_type": "code",
   "execution_count": 30,
   "metadata": {},
   "outputs": [
    {
     "name": "stdout",
     "output_type": "stream",
     "text": [
      "Wall time: 29.2 s\n"
     ]
    }
   ],
   "source": [
    "%%time\n",
    "\n",
    "distances = [0] * len(df[10:10000])\n",
    "count = -1\n",
    "\n",
    "for row in range(len(df[10:10000])):\n",
    "    row = 10 + row\n",
    "    count += 1\n",
    "    distances[count] = (dist_formula(df['nose']['x'].loc[row], df['nose']['x'].loc[row-1], df['nose']['y'].loc[row], df['nose']['y'].loc[row-1]))"
   ]
  },
  {
   "cell_type": "code",
   "execution_count": 33,
   "metadata": {},
   "outputs": [
    {
     "data": {
      "text/plain": [
       "9250295.355969489"
      ]
     },
     "execution_count": 33,
     "metadata": {},
     "output_type": "execute_result"
    }
   ],
   "source": [
    "np.sum(distances)"
   ]
  },
  {
   "cell_type": "code",
   "execution_count": null,
   "metadata": {},
   "outputs": [],
   "source": []
  }
 ],
 "metadata": {
  "kernelspec": {
   "display_name": "Python 3",
   "language": "python",
   "name": "python3"
  },
  "language_info": {
   "codemirror_mode": {
    "name": "ipython",
    "version": 3
   },
   "file_extension": ".py",
   "mimetype": "text/x-python",
   "name": "python",
   "nbconvert_exporter": "python",
   "pygments_lexer": "ipython3",
   "version": "3.8.3"
  }
 },
 "nbformat": 4,
 "nbformat_minor": 4
}
