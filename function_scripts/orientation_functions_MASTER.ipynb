{
 "cells": [
  {
   "cell_type": "code",
   "execution_count": 1,
   "metadata": {},
   "outputs": [],
   "source": [
    "import numpy as np\n",
    "import pandas as pd\n",
    "import matplotlib.pyplot as plt\n",
    "from shapely.geometry import Point\n",
    "from shapely.geometry.polygon import Polygon\n",
    "import cv2"
   ]
  },
  {
   "cell_type": "code",
   "execution_count": 2,
   "metadata": {},
   "outputs": [],
   "source": [
    "df = pd.read_csv('AC_SOC2_1DLC_resnet50_social_behavior_allMay27shuffle1_250000.csv', header = [1, 2])"
   ]
  },
  {
   "cell_type": "code",
   "execution_count": 2,
   "metadata": {},
   "outputs": [],
   "source": [
    "def prepare_coordinates(direc, padding = 40):\n",
    "\n",
    "    \"\"\"\n",
    "    Designed to extract the coordinates that were created with the 'define coordinates' function\n",
    "    in the terminal and import them into appropriate variables\n",
    "    for jupyter notebook analysis\n",
    "    \"\"\"\n",
    "    \n",
    "    import numpy as np\n",
    "    from shapely.geometry import Point\n",
    "    from shapely.geometry.polygon import Polygon\n",
    "    \n",
    "    ## will want to start things off by loading in the coordinates drawn (this should be done beforehand)\n",
    "\n",
    "    left_side = np.loadtxt(direc + 'left_side')\n",
    "    x_chamber = np.loadtxt(direc + 'x_chamber')\n",
    "    y_chamber = np.loadtxt(direc + 'y_chamber')\n",
    "    right_side = np.loadtxt(direc + 'right_side')\n",
    "    middle = np.loadtxt(direc + 'middle')\n",
    "    \n",
    "    ## calculate the padded interaction zone, that is 40 pixels larger in every direction (than the base of the chamber)\n",
    "\n",
    "    x_outer = Polygon(Polygon(x_chamber).buffer(padding).exterior).exterior.coords.xy\n",
    "    y_outer = Polygon(Polygon(y_chamber).buffer(padding).exterior).exterior.coords.xy\n",
    "    x_center = np.mean(x_outer[0]), np.mean(x_outer[1])\n",
    "    y_center = np.mean(y_outer[0]), np.mean(y_outer[1])\n",
    "    \n",
    "    x_zone = Polygon(Polygon(x_chamber).buffer(padding).exterior)\n",
    "    y_zone = Polygon(Polygon(y_chamber).buffer(padding).exterior)\n",
    "    \n",
    "    possible_places = {'x_zone': x_zone, 'y_zone': y_zone, 'left_side': left_side, 'middle': middle, 'right_side': right_side}\n",
    "    extra_coords = {'x_outer': x_outer, 'x_center': x_center, 'y_outer': y_outer, 'y_center': y_center, 'x_chamber': x_chamber, 'y_chamber': y_chamber}\n",
    "    \n",
    "    return possible_places, extra_coords"
   ]
  },
  {
   "cell_type": "code",
   "execution_count": 4,
   "metadata": {},
   "outputs": [],
   "source": [
    "possible_places, extra_coords = prepare_coordinates('coordinates\\\\')"
   ]
  },
  {
   "cell_type": "code",
   "execution_count": 4,
   "metadata": {},
   "outputs": [],
   "source": [
    "def check_orientation(df):\n",
    "    \n",
    "    ## function that finds the distance between nose, and ears, from center of zone.\n",
    "    ## returns either 'oriented' or 'not oriented' based on whether the nose is closest to center\n",
    "    \n",
    "    orientation = ['not_oriented'] * len(df)\n",
    "    \n",
    "    z = -1\n",
    "    \n",
    "    for index, val in df.iterrows():\n",
    "        z = z + 1\n",
    "        \n",
    "        dist_to_x = np.sqrt(((x_center[0] - df['nose']['x'].loc[index])**2) + ((x_center[1] - df['nose']['y'].loc[index])**2))\n",
    "        dist_to_y = np.sqrt(((y_center[0] - df['nose']['x'].loc[index])**2) + ((y_center[1] - df['nose']['y'].loc[index])**2))\n",
    "        \n",
    "        if dist_to_x > dist_to_y:        \n",
    "            distance_to_nose = np.sqrt(((y_center[0] - df['nose']['x'].loc[index])**2) + ((y_center[1] - df['nose']['y'].loc[index])**2))\n",
    "            distance_to_l_ear = np.sqrt(((y_center[0] - df['left ear']['x'].loc[index])**2) + ((y_center[1] - df['left ear']['y'].loc[index])**2))\n",
    "            distance_to_r_ear = np.sqrt(((y_center[0] - df['right ear']['x'].loc[index])**2) + ((y_center[1] - df['right ear']['y'].loc[index])**2))\n",
    "        elif dist_to_x < dist_to_y:\n",
    "            distance_to_nose = np.sqrt(((x_center[0] - df['nose']['x'].loc[index])**2) + ((x_center[1] - df['nose']['y'].loc[index])**2))\n",
    "            distance_to_l_ear = np.sqrt(((x_center[0] - df['left ear']['x'].loc[index])**2) + ((x_center[1] - df['left ear']['y'].loc[index])**2))\n",
    "            distance_to_r_ear = np.sqrt(((x_center[0] - df['right ear']['x'].loc[index])**2) + ((x_center[1] - df['right ear']['y'].loc[index])**2))\n",
    "\n",
    "        ## just look for what distance is the shortest. if that distance is nose, oriented, otherwise not\n",
    "        \n",
    "        if distance_to_nose < distance_to_l_ear:\n",
    "            if distance_to_nose < distance_to_r_ear:\n",
    "                orientation[z] = 'oriented'\n",
    "            elif distance_to_nose > distance_to_r_ear:\n",
    "                orientation[z] = 'not_oriented'              \n",
    "        elif distance_to_nose > distance_to_l_ear:\n",
    "            orientation[z] = 'not_oriented'\n",
    "        elif distance_to_nose > distance_to_r_ear:\n",
    "            orientation[z] = 'not_oriented'\n",
    "            \n",
    "    return orientation"
   ]
  },
  {
   "cell_type": "code",
   "execution_count": 3,
   "metadata": {},
   "outputs": [],
   "source": [
    "def check_orientation_single(df, index_loc):\n",
    "        \n",
    "        orientation = 'not_oriented'\n",
    "    \n",
    "        dist_to_x = np.sqrt(((x_center[0] - df['nose']['x'].loc[index_loc])**2) + ((x_center[1] - df['nose']['y'].loc[index_loc])**2))\n",
    "        dist_to_y = np.sqrt(((y_center[0] - df['nose']['x'].loc[index_loc])**2) + ((y_center[1] - df['nose']['y'].loc[index_loc])**2))\n",
    "        \n",
    "        if dist_to_x > dist_to_y:        \n",
    "            distance_to_nose = np.sqrt(((y_center[0] - df['nose']['x'].loc[index_loc])**2) + ((y_center[1] - df['nose']['y'].loc[index_loc])**2))\n",
    "            distance_to_l_ear = np.sqrt(((y_center[0] - df['left ear']['x'].loc[index_loc])**2) + ((y_center[1] - df['left ear']['y'].loc[index_loc])**2))\n",
    "            distance_to_r_ear = np.sqrt(((y_center[0] - df['right ear']['x'].loc[index_loc])**2) + ((y_center[1] - df['right ear']['y'].loc[index_loc])**2))\n",
    "        elif dist_to_x < dist_to_y:\n",
    "            distance_to_nose = np.sqrt(((x_center[0] - df['nose']['x'].loc[index_loc])**2) + ((x_center[1] - df['nose']['y'].loc[index_loc])**2))\n",
    "            distance_to_l_ear = np.sqrt(((x_center[0] - df['left ear']['x'].loc[index_loc])**2) + ((x_center[1] - df['left ear']['y'].loc[index_loc])**2))\n",
    "            distance_to_r_ear = np.sqrt(((x_center[0] - df['right ear']['x'].loc[index_loc])**2) + ((x_center[1] - df['right ear']['y'].loc[index_loc])**2))\n",
    "            \n",
    "        if distance_to_nose == np.min([distance_to_nose, distance_to_l_ear, distance_to_r_ear]):\n",
    "            orientation = 'oriented'\n",
    "            \n",
    "        return orientation"
   ]
  },
  {
   "cell_type": "code",
   "execution_count": 5,
   "metadata": {},
   "outputs": [
    {
     "ename": "NameError",
     "evalue": "name 'x_center' is not defined",
     "output_type": "error",
     "traceback": [
      "\u001b[1;31m---------------------------------------------------------------------------\u001b[0m",
      "\u001b[1;31mNameError\u001b[0m                                 Traceback (most recent call last)",
      "\u001b[1;32m<ipython-input-5-5bc3c13f17ba>\u001b[0m in \u001b[0;36m<module>\u001b[1;34m\u001b[0m\n\u001b[1;32m----> 1\u001b[1;33m \u001b[0mcheck_orientation_single\u001b[0m\u001b[1;33m(\u001b[0m\u001b[0mdf\u001b[0m\u001b[1;33m,\u001b[0m \u001b[1;36m560\u001b[0m\u001b[1;33m)\u001b[0m\u001b[1;33m\u001b[0m\u001b[1;33m\u001b[0m\u001b[0m\n\u001b[0m",
      "\u001b[1;32m<ipython-input-3-b5312e4eefdc>\u001b[0m in \u001b[0;36mcheck_orientation_single\u001b[1;34m(df, index_loc)\u001b[0m\n\u001b[0;32m      3\u001b[0m         \u001b[0morientation\u001b[0m \u001b[1;33m=\u001b[0m \u001b[1;34m'not_oriented'\u001b[0m\u001b[1;33m\u001b[0m\u001b[1;33m\u001b[0m\u001b[0m\n\u001b[0;32m      4\u001b[0m \u001b[1;33m\u001b[0m\u001b[0m\n\u001b[1;32m----> 5\u001b[1;33m         \u001b[0mdist_to_x\u001b[0m \u001b[1;33m=\u001b[0m \u001b[0mnp\u001b[0m\u001b[1;33m.\u001b[0m\u001b[0msqrt\u001b[0m\u001b[1;33m(\u001b[0m\u001b[1;33m(\u001b[0m\u001b[1;33m(\u001b[0m\u001b[0mx_center\u001b[0m\u001b[1;33m[\u001b[0m\u001b[1;36m0\u001b[0m\u001b[1;33m]\u001b[0m \u001b[1;33m-\u001b[0m \u001b[0mdf\u001b[0m\u001b[1;33m[\u001b[0m\u001b[1;34m'nose'\u001b[0m\u001b[1;33m]\u001b[0m\u001b[1;33m[\u001b[0m\u001b[1;34m'x'\u001b[0m\u001b[1;33m]\u001b[0m\u001b[1;33m.\u001b[0m\u001b[0mloc\u001b[0m\u001b[1;33m[\u001b[0m\u001b[0mindex_loc\u001b[0m\u001b[1;33m]\u001b[0m\u001b[1;33m)\u001b[0m\u001b[1;33m**\u001b[0m\u001b[1;36m2\u001b[0m\u001b[1;33m)\u001b[0m \u001b[1;33m+\u001b[0m \u001b[1;33m(\u001b[0m\u001b[1;33m(\u001b[0m\u001b[0mx_center\u001b[0m\u001b[1;33m[\u001b[0m\u001b[1;36m1\u001b[0m\u001b[1;33m]\u001b[0m \u001b[1;33m-\u001b[0m \u001b[0mdf\u001b[0m\u001b[1;33m[\u001b[0m\u001b[1;34m'nose'\u001b[0m\u001b[1;33m]\u001b[0m\u001b[1;33m[\u001b[0m\u001b[1;34m'y'\u001b[0m\u001b[1;33m]\u001b[0m\u001b[1;33m.\u001b[0m\u001b[0mloc\u001b[0m\u001b[1;33m[\u001b[0m\u001b[0mindex_loc\u001b[0m\u001b[1;33m]\u001b[0m\u001b[1;33m)\u001b[0m\u001b[1;33m**\u001b[0m\u001b[1;36m2\u001b[0m\u001b[1;33m)\u001b[0m\u001b[1;33m)\u001b[0m\u001b[1;33m\u001b[0m\u001b[1;33m\u001b[0m\u001b[0m\n\u001b[0m\u001b[0;32m      6\u001b[0m         \u001b[0mdist_to_y\u001b[0m \u001b[1;33m=\u001b[0m \u001b[0mnp\u001b[0m\u001b[1;33m.\u001b[0m\u001b[0msqrt\u001b[0m\u001b[1;33m(\u001b[0m\u001b[1;33m(\u001b[0m\u001b[1;33m(\u001b[0m\u001b[0my_center\u001b[0m\u001b[1;33m[\u001b[0m\u001b[1;36m0\u001b[0m\u001b[1;33m]\u001b[0m \u001b[1;33m-\u001b[0m \u001b[0mdf\u001b[0m\u001b[1;33m[\u001b[0m\u001b[1;34m'nose'\u001b[0m\u001b[1;33m]\u001b[0m\u001b[1;33m[\u001b[0m\u001b[1;34m'x'\u001b[0m\u001b[1;33m]\u001b[0m\u001b[1;33m.\u001b[0m\u001b[0mloc\u001b[0m\u001b[1;33m[\u001b[0m\u001b[0mindex_loc\u001b[0m\u001b[1;33m]\u001b[0m\u001b[1;33m)\u001b[0m\u001b[1;33m**\u001b[0m\u001b[1;36m2\u001b[0m\u001b[1;33m)\u001b[0m \u001b[1;33m+\u001b[0m \u001b[1;33m(\u001b[0m\u001b[1;33m(\u001b[0m\u001b[0my_center\u001b[0m\u001b[1;33m[\u001b[0m\u001b[1;36m1\u001b[0m\u001b[1;33m]\u001b[0m \u001b[1;33m-\u001b[0m \u001b[0mdf\u001b[0m\u001b[1;33m[\u001b[0m\u001b[1;34m'nose'\u001b[0m\u001b[1;33m]\u001b[0m\u001b[1;33m[\u001b[0m\u001b[1;34m'y'\u001b[0m\u001b[1;33m]\u001b[0m\u001b[1;33m.\u001b[0m\u001b[0mloc\u001b[0m\u001b[1;33m[\u001b[0m\u001b[0mindex_loc\u001b[0m\u001b[1;33m]\u001b[0m\u001b[1;33m)\u001b[0m\u001b[1;33m**\u001b[0m\u001b[1;36m2\u001b[0m\u001b[1;33m)\u001b[0m\u001b[1;33m)\u001b[0m\u001b[1;33m\u001b[0m\u001b[1;33m\u001b[0m\u001b[0m\n\u001b[0;32m      7\u001b[0m \u001b[1;33m\u001b[0m\u001b[0m\n",
      "\u001b[1;31mNameError\u001b[0m: name 'x_center' is not defined"
     ]
    }
   ],
   "source": [
    "check_orientation_single(df, 560)"
   ]
  },
  {
   "cell_type": "code",
   "execution_count": null,
   "metadata": {},
   "outputs": [],
   "source": []
  }
 ],
 "metadata": {
  "kernelspec": {
   "display_name": "Python 3",
   "language": "python",
   "name": "python3"
  },
  "language_info": {
   "codemirror_mode": {
    "name": "ipython",
    "version": 3
   },
   "file_extension": ".py",
   "mimetype": "text/x-python",
   "name": "python",
   "nbconvert_exporter": "python",
   "pygments_lexer": "ipython3",
   "version": "3.7.6"
  }
 },
 "nbformat": 4,
 "nbformat_minor": 4
}
